{
  "nbformat": 4,
  "nbformat_minor": 0,
  "metadata": {
    "colab": {
      "name": "Chapter 3.ipynb",
      "provenance": [],
      "collapsed_sections": [],
      "authorship_tag": "ABX9TyN1rbZTbTpGnkRQ5Fz3uSKN"
    },
    "kernelspec": {
      "name": "python3",
      "display_name": "Python 3"
    },
    "language_info": {
      "name": "python"
    }
  },
  "cells": [
    {
      "cell_type": "markdown",
      "metadata": {
        "id": "e9tSLJzdrhgb"
      },
      "source": [
        "# Chapter 3\n",
        "\n",
        "**8.** This question involves the use of simple linear regression on the Auto\n",
        "data set.\n",
        "\n",
        "(a) Perform a simple linear regression with\n",
        "mpg as the response and horsepower as the predictor. Print results\n",
        "\n",
        "\n",
        "\n",
        "* Is there a relationship between the predictor and the response?\n",
        "\n",
        "\n",
        "\n",
        "\n"
      ]
    },
    {
      "cell_type": "code",
      "metadata": {
        "colab": {
          "base_uri": "https://localhost:8080/",
          "height": 203
        },
        "id": "GSGSwEhMrtlJ",
        "outputId": "d483949b-d7af-4e79-ef0d-25a8c8f8251d"
      },
      "source": [
        "import pandas as pd\n",
        "url_auto=\"https://raw.githubusercontent.com/selva86/datasets/master/Auto.csv\"\n",
        "df=pd.read_csv(url_auto) #Load it first\n",
        "\n",
        "df.head()"
      ],
      "execution_count": null,
      "outputs": [
        {
          "output_type": "execute_result",
          "data": {
            "text/html": [
              "<div>\n",
              "<style scoped>\n",
              "    .dataframe tbody tr th:only-of-type {\n",
              "        vertical-align: middle;\n",
              "    }\n",
              "\n",
              "    .dataframe tbody tr th {\n",
              "        vertical-align: top;\n",
              "    }\n",
              "\n",
              "    .dataframe thead th {\n",
              "        text-align: right;\n",
              "    }\n",
              "</style>\n",
              "<table border=\"1\" class=\"dataframe\">\n",
              "  <thead>\n",
              "    <tr style=\"text-align: right;\">\n",
              "      <th></th>\n",
              "      <th>mpg</th>\n",
              "      <th>cylinders</th>\n",
              "      <th>displacement</th>\n",
              "      <th>horsepower</th>\n",
              "      <th>weight</th>\n",
              "      <th>acceleration</th>\n",
              "      <th>year</th>\n",
              "      <th>origin</th>\n",
              "      <th>name</th>\n",
              "    </tr>\n",
              "  </thead>\n",
              "  <tbody>\n",
              "    <tr>\n",
              "      <th>0</th>\n",
              "      <td>18.0</td>\n",
              "      <td>8</td>\n",
              "      <td>307.0</td>\n",
              "      <td>130</td>\n",
              "      <td>3504</td>\n",
              "      <td>12.0</td>\n",
              "      <td>70</td>\n",
              "      <td>1</td>\n",
              "      <td>chevrolet chevelle malibu</td>\n",
              "    </tr>\n",
              "    <tr>\n",
              "      <th>1</th>\n",
              "      <td>15.0</td>\n",
              "      <td>8</td>\n",
              "      <td>350.0</td>\n",
              "      <td>165</td>\n",
              "      <td>3693</td>\n",
              "      <td>11.5</td>\n",
              "      <td>70</td>\n",
              "      <td>1</td>\n",
              "      <td>buick skylark 320</td>\n",
              "    </tr>\n",
              "    <tr>\n",
              "      <th>2</th>\n",
              "      <td>18.0</td>\n",
              "      <td>8</td>\n",
              "      <td>318.0</td>\n",
              "      <td>150</td>\n",
              "      <td>3436</td>\n",
              "      <td>11.0</td>\n",
              "      <td>70</td>\n",
              "      <td>1</td>\n",
              "      <td>plymouth satellite</td>\n",
              "    </tr>\n",
              "    <tr>\n",
              "      <th>3</th>\n",
              "      <td>16.0</td>\n",
              "      <td>8</td>\n",
              "      <td>304.0</td>\n",
              "      <td>150</td>\n",
              "      <td>3433</td>\n",
              "      <td>12.0</td>\n",
              "      <td>70</td>\n",
              "      <td>1</td>\n",
              "      <td>amc rebel sst</td>\n",
              "    </tr>\n",
              "    <tr>\n",
              "      <th>4</th>\n",
              "      <td>17.0</td>\n",
              "      <td>8</td>\n",
              "      <td>302.0</td>\n",
              "      <td>140</td>\n",
              "      <td>3449</td>\n",
              "      <td>10.5</td>\n",
              "      <td>70</td>\n",
              "      <td>1</td>\n",
              "      <td>ford torino</td>\n",
              "    </tr>\n",
              "  </tbody>\n",
              "</table>\n",
              "</div>"
            ],
            "text/plain": [
              "    mpg  cylinders  displacement  ...  year  origin                       name\n",
              "0  18.0          8         307.0  ...    70       1  chevrolet chevelle malibu\n",
              "1  15.0          8         350.0  ...    70       1          buick skylark 320\n",
              "2  18.0          8         318.0  ...    70       1         plymouth satellite\n",
              "3  16.0          8         304.0  ...    70       1              amc rebel sst\n",
              "4  17.0          8         302.0  ...    70       1                ford torino\n",
              "\n",
              "[5 rows x 9 columns]"
            ]
          },
          "metadata": {},
          "execution_count": 1
        }
      ]
    },
    {
      "cell_type": "code",
      "metadata": {
        "colab": {
          "base_uri": "https://localhost:8080/",
          "height": 320
        },
        "id": "MKmP2Fb6sIYo",
        "outputId": "d9a399bc-d796-4358-b617-c92cc151db05"
      },
      "source": [
        "from sklearn.linear_model import LinearRegression\n",
        "import matplotlib.pyplot as plt\n",
        "\n",
        "\n",
        "X=df[['horsepower']] #shape: n-samples -> (len(df['hosrsepower])), n-feature -> 1\n",
        "y=df['mpg'] #shape: (n-samples,)\n",
        "\n",
        "linear_r=LinearRegression()\n",
        "linear_r.fit(X,y)\n",
        "\n",
        "y_pred=linear_r.predict(X)\n",
        "\n",
        "plt.figure(figsize=(10,5))\n",
        "plt.scatter(X, y,  color='black')\n",
        "plt.plot(X, y_pred, color='r'); #There is indeed a relationship"
      ],
      "execution_count": null,
      "outputs": [
        {
          "output_type": "display_data",
          "data": {
            "image/png": "[encoded data removed]",
            "text/plain": [
              "<Figure size 720x360 with 1 Axes>"
            ]
          },
          "metadata": {
            "needs_background": "light"
          }
        }
      ]
    },
    {
      "cell_type": "markdown",
      "metadata": {
        "id": "-BAHgjaIxO_s"
      },
      "source": [
        "*   How strong is the relationship between the predictor and\n",
        "the response?\n",
        "\n",
        "\n",
        "*   Is the relationship between the predictor and the response positive or negative?\n",
        "\n"
      ]
    },
    {
      "cell_type": "code",
      "metadata": {
        "colab": {
          "base_uri": "https://localhost:8080/"
        },
        "id": "cZUm1_u7veR4",
        "outputId": "85f778e2-759e-4dbe-de1f-cb966a2a6272"
      },
      "source": [
        "from sklearn.metrics import r2_score\n",
        "print(f\"The R2 value is: {r2_score(y,y_pred)}. There is a negative relationship looking at the graph above\")"
      ],
      "execution_count": null,
      "outputs": [
        {
          "output_type": "stream",
          "name": "stdout",
          "text": [
            "The R2 value is: 0.6059482578894348. There is a negative relationship looking at the graph above\n"
          ]
        }
      ]
    },
    {
      "cell_type": "markdown",
      "metadata": {
        "id": "h-6XrDdWxqnT"
      },
      "source": [
        "*   What is the predicted mpg associated with a horsepower of\n",
        "98? What are the associated 95% confidence and prediction\n",
        "intervals?\n",
        "\n",
        "\n",
        "\n"
      ]
    },
    {
      "cell_type": "code",
      "metadata": {
        "colab": {
          "base_uri": "https://localhost:8080/"
        },
        "id": "EulNsn7bw9W5",
        "outputId": "6876e0a2-98d2-455f-d350-42b0ca48e870"
      },
      "source": [
        "import statsmodels.api as sm\n",
        "import numpy as np\n",
        "\n",
        "X=sm.add_constant(X)\n",
        "model=sm.OLS(y,X).fit()\n",
        "pred=model.get_prediction([[1,98]])\n",
        "pred_sum=pred.summary_frame()\n",
        "\n",
        "print(f\"The associated value with a horsepower of 98 using sklearns regression result is: {round(linear_r.predict([[98]])[0])} \\n\")\n",
        "print(f\"Using statsmodel the predicted value is also: {round(pred_sum['mean'][0])}\")\n",
        "print(f\"Corresponding confidence intervals are: {(pred_sum['mean_ci_lower'][0],pred_sum['mean_ci_upper'][0])}\")"
      ],
      "execution_count": null,
      "outputs": [
        {
          "output_type": "stream",
          "name": "stderr",
          "text": [
            "/usr/local/lib/python3.7/dist-packages/statsmodels/tools/_testing.py:19: FutureWarning: pandas.util.testing is deprecated. Use the functions in the public API at pandas.testing instead.\n",
            "  import pandas.util.testing as tm\n"
          ]
        },
        {
          "output_type": "stream",
          "name": "stdout",
          "text": [
            "The associated value with a horsepower of 98 using sklearns regression result is: 24 \n",
            "\n",
            "Using statsmodel the predicted value is also: 24\n",
            "Corresponding confidence intervals are: (23.973078960703948, 24.961075344320914)\n"
          ]
        }
      ]
    },
    {
      "cell_type": "markdown",
      "metadata": {
        "id": "fA3eMKJs5DkG"
      },
      "source": [
        "C) Produce diagnostic plots of the least\n",
        "squares regression fit. Comment on any problems you see with\n",
        "the fit. \n",
        "\n",
        "**Note:** Implementing as much as possible using formulas and skipping libraries just for the sake of learning\n",
        "\n",
        "\n",
        "*   **Fitted vs residuals:** Residuals points show a clear pattern which argues against linearity. Drawing a secound degree line through the data shows this pattern\n",
        "\n",
        "**Formula for residuals:** error_term= observed value - predicted value"
      ]
    },
    {
      "cell_type": "code",
      "metadata": {
        "colab": {
          "base_uri": "https://localhost:8080/",
          "height": 320
        },
        "id": "qDiNZwicNA0X",
        "outputId": "30fbc555-7316-47cf-cd82-e6465aeaea92"
      },
      "source": [
        "from statsmodels.nonparametric.smoothers_lowess import lowess\n",
        "\n",
        "residuals=y-y_pred\n",
        "resid_line = lowess(residuals,y_pred)\n",
        "\n",
        "fig, ax = plt.subplots(figsize=(7,5))\n",
        "ax.scatter(y_pred, residuals,  color='black')\n",
        "ax.plot(resid_line[:,0],resid_line[:,1],color = 'r');"
      ],
      "execution_count": null,
      "outputs": [
        {
          "output_type": "display_data",
          "data": {
            "image/png": "[encoded data removed]",
            "text/plain": [
              "<Figure size 504x360 with 1 Axes>"
            ]
          },
          "metadata": {
            "needs_background": "light"
          }
        }
      ]
    },
    {
      "cell_type": "markdown",
      "metadata": {
        "id": "rEL3F2yePAZZ"
      },
      "source": [
        "\n",
        "\n",
        "*   **Normal Q-Q:** The points deviates little from the line, which shows that the data isnt normally distributed. Points at higher end of line have large residual magnitudes\n",
        "\n"
      ]
    },
    {
      "cell_type": "code",
      "metadata": {
        "colab": {
          "base_uri": "https://localhost:8080/",
          "height": 279
        },
        "id": "1e2QhJcIPHu6",
        "outputId": "0da9df98-d9dd-41b8-a6c6-5f21f9fa9de4"
      },
      "source": [
        "fig = sm.qqplot(residuals,fit=True,line=\"45\",color=\"black\")\n",
        "plt.show() "
      ],
      "execution_count": null,
      "outputs": [
        {
          "output_type": "display_data",
          "data": {
            "image/png": "[encoded data removed]",
            "text/plain": [
              "<Figure size 432x288 with 1 Axes>"
            ]
          },
          "metadata": {
            "needs_background": "light"
          }
        }
      ]
    },
    {
      "cell_type": "markdown",
      "metadata": {
        "id": "ZJyPol3gQsxI"
      },
      "source": [
        "\n",
        "\n",
        "*   **Scale-location:** Drawing a line doesnt show a pattern\n",
        "\n",
        "\n",
        "\n"
      ]
    },
    {
      "cell_type": "code",
      "metadata": {
        "colab": {
          "base_uri": "https://localhost:8080/",
          "height": 320
        },
        "id": "SkgjkFy8QsUp",
        "outputId": "900fc887-9dc0-483d-a0a8-7e8bd1665d01"
      },
      "source": [
        "rss=[np.sum(np.square(i)) for i in residuals] #Calculate residual sum of squares\n",
        "rse=[i/(len(y_pred)-2) for i in rss] #Calculate residual standard error\n",
        "\n",
        "rse_line = lowess(rse,y_pred)\n",
        "\n",
        "fig, ax = plt.subplots(figsize=(7,5))\n",
        "ax.scatter(y_pred, rse,  color='black')\n",
        "ax.plot(rse_line[:,0],rse_line[:,1],color = 'r');"
      ],
      "execution_count": null,
      "outputs": [
        {
          "output_type": "display_data",
          "data": {
            "image/png": "[encoded data removed]",
            "text/plain": [
              "<Figure size 504x360 with 1 Axes>"
            ]
          },
          "metadata": {
            "needs_background": "light"
          }
        }
      ]
    },
    {
      "cell_type": "markdown",
      "metadata": {
        "id": "_Sd2GFjvKidW"
      },
      "source": [
        "\n",
        "\n",
        "*   **Leverage:** There are outliers witch are inflence our whole result\n",
        "\n",
        "\n",
        "\n"
      ]
    },
    {
      "cell_type": "code",
      "metadata": {
        "colab": {
          "base_uri": "https://localhost:8080/",
          "height": 371
        },
        "id": "1Cu3l-DmDGx1",
        "outputId": "cca0243d-01cb-4f0c-c616-f6d3cf4fccd6"
      },
      "source": [
        "plt.rc(\"figure\", figsize=(7,5))\n",
        "fig = sm.graphics.influence_plot(model)\n",
        "fig.tight_layout(pad=1)\n",
        "plt.show()"
      ],
      "execution_count": null,
      "outputs": [
        {
          "output_type": "display_data",
          "data": {
            "image/png": "[encoded data removed]",
            "text/plain": [
              "<Figure size 504x360 with 1 Axes>"
            ]
          },
          "metadata": {
            "needs_background": "light"
          }
        }
      ]
    },
    {
      "cell_type": "markdown",
      "metadata": {
        "id": "2OaruwY-DFhF"
      },
      "source": [
        "**9.** This question involves the use of multiple linear regression on the\n",
        "Auto data set.\n",
        "\n",
        "**Note:** This question is almost same as 8 using different dataset! It is therefore **skipped**\n",
        "\n",
        "\n",
        "---\n",
        "\n",
        "**10.** This question should be answered using the Carseats data set.\n",
        "\n",
        "a) Fit a multiple regression model to predict Sales using Population,\n",
        "Urban, and US.\n",
        "\n"
      ]
    },
    {
      "cell_type": "code",
      "metadata": {
        "id": "mgV5J5TDMOmp",
        "colab": {
          "base_uri": "https://localhost:8080/",
          "height": 203
        },
        "outputId": "b0a4b6bf-5e5b-49a2-94a5-109910d0e063"
      },
      "source": [
        "url=\"https://raw.githubusercontent.com/selva86/datasets/master/Carseats.csv\"\n",
        "df=pd.read_csv(url)\n",
        "\n",
        "df.head()"
      ],
      "execution_count": null,
      "outputs": [
        {
          "output_type": "execute_result",
          "data": {
            "text/html": [
              "<div>\n",
              "<style scoped>\n",
              "    .dataframe tbody tr th:only-of-type {\n",
              "        vertical-align: middle;\n",
              "    }\n",
              "\n",
              "    .dataframe tbody tr th {\n",
              "        vertical-align: top;\n",
              "    }\n",
              "\n",
              "    .dataframe thead th {\n",
              "        text-align: right;\n",
              "    }\n",
              "</style>\n",
              "<table border=\"1\" class=\"dataframe\">\n",
              "  <thead>\n",
              "    <tr style=\"text-align: right;\">\n",
              "      <th></th>\n",
              "      <th>Sales</th>\n",
              "      <th>CompPrice</th>\n",
              "      <th>Income</th>\n",
              "      <th>Advertising</th>\n",
              "      <th>Population</th>\n",
              "      <th>Price</th>\n",
              "      <th>ShelveLoc</th>\n",
              "      <th>Age</th>\n",
              "      <th>Education</th>\n",
              "      <th>Urban</th>\n",
              "      <th>US</th>\n",
              "    </tr>\n",
              "  </thead>\n",
              "  <tbody>\n",
              "    <tr>\n",
              "      <th>0</th>\n",
              "      <td>9.50</td>\n",
              "      <td>138</td>\n",
              "      <td>73</td>\n",
              "      <td>11</td>\n",
              "      <td>276</td>\n",
              "      <td>120</td>\n",
              "      <td>Bad</td>\n",
              "      <td>42</td>\n",
              "      <td>17</td>\n",
              "      <td>Yes</td>\n",
              "      <td>Yes</td>\n",
              "    </tr>\n",
              "    <tr>\n",
              "      <th>1</th>\n",
              "      <td>11.22</td>\n",
              "      <td>111</td>\n",
              "      <td>48</td>\n",
              "      <td>16</td>\n",
              "      <td>260</td>\n",
              "      <td>83</td>\n",
              "      <td>Good</td>\n",
              "      <td>65</td>\n",
              "      <td>10</td>\n",
              "      <td>Yes</td>\n",
              "      <td>Yes</td>\n",
              "    </tr>\n",
              "    <tr>\n",
              "      <th>2</th>\n",
              "      <td>10.06</td>\n",
              "      <td>113</td>\n",
              "      <td>35</td>\n",
              "      <td>10</td>\n",
              "      <td>269</td>\n",
              "      <td>80</td>\n",
              "      <td>Medium</td>\n",
              "      <td>59</td>\n",
              "      <td>12</td>\n",
              "      <td>Yes</td>\n",
              "      <td>Yes</td>\n",
              "    </tr>\n",
              "    <tr>\n",
              "      <th>3</th>\n",
              "      <td>7.40</td>\n",
              "      <td>117</td>\n",
              "      <td>100</td>\n",
              "      <td>4</td>\n",
              "      <td>466</td>\n",
              "      <td>97</td>\n",
              "      <td>Medium</td>\n",
              "      <td>55</td>\n",
              "      <td>14</td>\n",
              "      <td>Yes</td>\n",
              "      <td>Yes</td>\n",
              "    </tr>\n",
              "    <tr>\n",
              "      <th>4</th>\n",
              "      <td>4.15</td>\n",
              "      <td>141</td>\n",
              "      <td>64</td>\n",
              "      <td>3</td>\n",
              "      <td>340</td>\n",
              "      <td>128</td>\n",
              "      <td>Bad</td>\n",
              "      <td>38</td>\n",
              "      <td>13</td>\n",
              "      <td>Yes</td>\n",
              "      <td>No</td>\n",
              "    </tr>\n",
              "  </tbody>\n",
              "</table>\n",
              "</div>"
            ],
            "text/plain": [
              "   Sales  CompPrice  Income  Advertising  ...  Age  Education Urban   US\n",
              "0   9.50        138      73           11  ...   42         17   Yes  Yes\n",
              "1  11.22        111      48           16  ...   65         10   Yes  Yes\n",
              "2  10.06        113      35           10  ...   59         12   Yes  Yes\n",
              "3   7.40        117     100            4  ...   55         14   Yes  Yes\n",
              "4   4.15        141      64            3  ...   38         13   Yes   No\n",
              "\n",
              "[5 rows x 11 columns]"
            ]
          },
          "metadata": {},
          "execution_count": 9
        }
      ]
    },
    {
      "cell_type": "markdown",
      "metadata": {
        "id": "GIno1XwCjzpu"
      },
      "source": [
        "**Note:** Looking at the dataframe, we can see that urban and us is categorical. Unfortunatly i havent found a clear-cut method for calculating pvalues for categorical variables when fitting a model in python. You could perform one hot encoding i.e. turning the categorical variables to levels of 0 for No and 1 for Yes, but the statsmodels would calculate a pvalue for each of these levels and converge these to zeros due to singularity matrices produced, which leads to false interpretation of the result\n",
        "\n",
        "We have to turn to R's style of notation using statsmodels and produce a statistical report of our result. The notation is explained below:\n",
        "\n",
        "\n",
        "\n",
        "*   **Multiple regresssion formula= 'Sales ~ Population + Urban + US':** where the first word **\"Sales\"** indicates our independent variable, **\"~\"** means as a function of and the rest are predictors name written out. So in other words the formula is saying: sales as a function of population + urban + us\n",
        "\n",
        "\n"
      ]
    },
    {
      "cell_type": "code",
      "metadata": {
        "colab": {
          "base_uri": "https://localhost:8080/"
        },
        "id": "vBUBz4n0nkjC",
        "outputId": "7181000a-dcf9-48ad-8ce0-3abc0eecb14d"
      },
      "source": [
        "from statsmodels.formula.api import ols\n",
        "\n",
        "model=ols(formula='Sales ~ Population + Urban + US', data=df)\n",
        "result=model.fit()\n",
        "print(f\"\\n {result.summary()}\")\n"
      ],
      "execution_count": null,
      "outputs": [
        {
          "output_type": "stream",
          "name": "stdout",
          "text": [
            "\n",
            "                             OLS Regression Results                            \n",
            "==============================================================================\n",
            "Dep. Variable:                  Sales   R-squared:                       0.033\n",
            "Model:                            OLS   Adj. R-squared:                  0.026\n",
            "Method:                 Least Squares   F-statistic:                     4.563\n",
            "Date:                Sun, 12 Sep 2021   Prob (F-statistic):            0.00371\n",
            "Time:                        16:46:23   Log-Likelihood:                -975.56\n",
            "No. Observations:                 400   AIC:                             1959.\n",
            "Df Residuals:                     396   BIC:                             1975.\n",
            "Df Model:                           3                                         \n",
            "Covariance Type:            nonrobust                                         \n",
            "================================================================================\n",
            "                   coef    std err          t      P>|t|      [0.025      0.975]\n",
            "--------------------------------------------------------------------------------\n",
            "Intercept        6.7262      0.401     16.776      0.000       5.938       7.514\n",
            "Urban[T.Yes]    -0.1341      0.306     -0.438      0.662      -0.736       0.468\n",
            "US[T.Yes]        1.0361      0.292      3.547      0.000       0.462       1.610\n",
            "Population       0.0007      0.001      0.781      0.435      -0.001       0.003\n",
            "==============================================================================\n",
            "Omnibus:                        1.651   Durbin-Watson:                   1.914\n",
            "Prob(Omnibus):                  0.438   Jarque-Bera (JB):                1.620\n",
            "Skew:                           0.155   Prob(JB):                        0.445\n",
            "Kurtosis:                       2.973   Cond. No.                     1.01e+03\n",
            "==============================================================================\n",
            "\n",
            "Warnings:\n",
            "[1] Standard Errors assume that the covariance matrix of the errors is correctly specified.\n",
            "[2] The condition number is large, 1.01e+03. This might indicate that there are\n",
            "strong multicollinearity or other numerical problems.\n"
          ]
        }
      ]
    },
    {
      "cell_type": "markdown",
      "metadata": {
        "id": "eiz9lAnN_LAz"
      },
      "source": [
        "b) Provide an interpretation of each coefficient in the model.\n",
        "\n",
        "**Answer:** Looking at the coeffecients of the model produced and their corresponding pvalues, we can see that urban have **negative** relationship to sales with a high pvalue, which indicate that **existing in Urban suburbs** doesnt mean an **increase in sales**\n",
        "\n",
        "For US the relationship is **positive** and the pvalue next to zero, indicating that **having a store in US does increase sales**\n",
        "\n",
        "Population have the highest value which means that it doenst have a statistical significance to sales\n",
        "\n"
      ]
    },
    {
      "cell_type": "markdown",
      "metadata": {
        "id": "0307WW1Mwo8N"
      },
      "source": [
        "c) Write out the model in equation form, being careful to handle\n",
        "the qualitative variables properly. \n",
        "\n"
      ]
    },
    {
      "cell_type": "code",
      "metadata": {
        "id": "_J8CF829xo3k"
      },
      "source": [
        "#Sales=0.0007*Population + 1.03*US - 0.1341*Urban"
      ],
      "execution_count": null,
      "outputs": []
    },
    {
      "cell_type": "markdown",
      "metadata": {
        "id": "Oy-KrqtQxsc9"
      },
      "source": [
        "d) For which of the predictors can you reject the null hypothesis\n",
        "H0 : βj = 0? \n",
        "\n",
        "**Answer:** It can be rejected for all predictors except population"
      ]
    },
    {
      "cell_type": "markdown",
      "metadata": {
        "id": "Wk5FEjurT-t2"
      },
      "source": [
        "e) On the basis of your response to the previous question, fit a\n",
        "smaller model that only uses the predictors for which there is\n",
        "evidence of association with the outcome."
      ]
    },
    {
      "cell_type": "code",
      "metadata": {
        "colab": {
          "base_uri": "https://localhost:8080/"
        },
        "id": "rMLXnpF7T64g",
        "outputId": "f81167b9-2864-44ab-8756-816abd34656d"
      },
      "source": [
        "model=ols(formula='Sales ~ US', data=df)\n",
        "result=model.fit()\n",
        "print(f\"\\n {result.summary()}\")"
      ],
      "execution_count": null,
      "outputs": [
        {
          "output_type": "stream",
          "name": "stdout",
          "text": [
            "\n",
            "                             OLS Regression Results                            \n",
            "==============================================================================\n",
            "Dep. Variable:                  Sales   R-squared:                       0.031\n",
            "Model:                            OLS   Adj. R-squared:                  0.029\n",
            "Method:                 Least Squares   F-statistic:                     12.89\n",
            "Date:                Sun, 12 Sep 2021   Prob (F-statistic):           0.000372\n",
            "Time:                        16:46:23   Log-Likelihood:                -975.98\n",
            "No. Observations:                 400   AIC:                             1956.\n",
            "Df Residuals:                     398   BIC:                             1964.\n",
            "Df Model:                           1                                         \n",
            "Covariance Type:            nonrobust                                         \n",
            "==============================================================================\n",
            "                 coef    std err          t      P>|t|      [0.025      0.975]\n",
            "------------------------------------------------------------------------------\n",
            "Intercept      6.8230      0.234     29.215      0.000       6.364       7.282\n",
            "US[T.Yes]      1.0439      0.291      3.590      0.000       0.472       1.616\n",
            "==============================================================================\n",
            "Omnibus:                        1.471   Durbin-Watson:                   1.902\n",
            "Prob(Omnibus):                  0.479   Jarque-Bera (JB):                1.443\n",
            "Skew:                           0.146   Prob(JB):                        0.486\n",
            "Kurtosis:                       2.973   Cond. No.                         3.12\n",
            "==============================================================================\n",
            "\n",
            "Warnings:\n",
            "[1] Standard Errors assume that the covariance matrix of the errors is correctly specified.\n"
          ]
        }
      ]
    },
    {
      "cell_type": "markdown",
      "metadata": {
        "id": "utvx_RIZ684s"
      },
      "source": [
        "(f) How well do the models in (a) and (e) fit the data? **Answer:** There isnt any difference in r-squared values. But the **F-statistic** for second model is **higher** which indicates that this model yields **better prediction** than our first model- despite the fact that r-squared value is bad\n",
        "\n",
        "\n",
        "---\n",
        "\n",
        "\n",
        "(g) Using the model from (e), obtain 95% confidence intervals for\n",
        "the coefficient(s)."
      ]
    },
    {
      "cell_type": "code",
      "metadata": {
        "colab": {
          "base_uri": "https://localhost:8080/",
          "height": 110
        },
        "id": "6He9juC682F-",
        "outputId": "7c4ea720-258c-486a-ec01-04ff28885b82"
      },
      "source": [
        "result.conf_int(alpha=0.05)"
      ],
      "execution_count": null,
      "outputs": [
        {
          "output_type": "execute_result",
          "data": {
            "text/html": [
              "<div>\n",
              "<style scoped>\n",
              "    .dataframe tbody tr th:only-of-type {\n",
              "        vertical-align: middle;\n",
              "    }\n",
              "\n",
              "    .dataframe tbody tr th {\n",
              "        vertical-align: top;\n",
              "    }\n",
              "\n",
              "    .dataframe thead th {\n",
              "        text-align: right;\n",
              "    }\n",
              "</style>\n",
              "<table border=\"1\" class=\"dataframe\">\n",
              "  <thead>\n",
              "    <tr style=\"text-align: right;\">\n",
              "      <th></th>\n",
              "      <th>0</th>\n",
              "      <th>1</th>\n",
              "    </tr>\n",
              "  </thead>\n",
              "  <tbody>\n",
              "    <tr>\n",
              "      <th>Intercept</th>\n",
              "      <td>6.363899</td>\n",
              "      <td>7.282157</td>\n",
              "    </tr>\n",
              "    <tr>\n",
              "      <th>US[T.Yes]</th>\n",
              "      <td>0.472189</td>\n",
              "      <td>1.615553</td>\n",
              "    </tr>\n",
              "  </tbody>\n",
              "</table>\n",
              "</div>"
            ],
            "text/plain": [
              "                  0         1\n",
              "Intercept  6.363899  7.282157\n",
              "US[T.Yes]  0.472189  1.615553"
            ]
          },
          "metadata": {},
          "execution_count": 13
        }
      ]
    },
    {
      "cell_type": "markdown",
      "metadata": {
        "id": "WFec-IwTBOEW"
      },
      "source": [
        "**11.** In this problem we will investigate the t-statistic for the null hypothesis\n",
        "H0 : β = 0 in simple linear regression without an intercept. To\n",
        "begin, we generate a predictor x and a response y as follows.\n",
        "\n",
        "**Note:** Following the books instruction when creating X and y"
      ]
    },
    {
      "cell_type": "code",
      "metadata": {
        "id": "eWdFsRC7BdgD"
      },
      "source": [
        "import random\n",
        "random.seed(10)\n",
        "\n",
        "X=np.random.normal(size=100)\n",
        "y=2*X+np.random.normal(size=100)"
      ],
      "execution_count": null,
      "outputs": []
    },
    {
      "cell_type": "markdown",
      "metadata": {
        "id": "pzYbgr-a_cr_"
      },
      "source": [
        "(a) Perform a simple linear regression of y onto x, without an intercept.\n",
        "Report the coefficient estimate ˆ β, the standard error of\n",
        "this coefficient estimate, and the t-statistic and p-value associated\n",
        "with the null hypothesis H0 : β = 0. Comment on these\n",
        "results. \n",
        "\n",
        "**Answer:** A high t-statistic and low pvalue strongly rejects the null-hypothesis"
      ]
    },
    {
      "cell_type": "code",
      "metadata": {
        "colab": {
          "base_uri": "https://localhost:8080/"
        },
        "id": "o6WhmhzE_DnI",
        "outputId": "9bb5321c-dcff-4fa4-e00f-a9128da05c81"
      },
      "source": [
        "model=sm.OLS(y,X).fit() #Model without intercept\n",
        "print(model.summary())"
      ],
      "execution_count": null,
      "outputs": [
        {
          "output_type": "stream",
          "name": "stdout",
          "text": [
            "                                 OLS Regression Results                                \n",
            "=======================================================================================\n",
            "Dep. Variable:                      y   R-squared (uncentered):                   0.830\n",
            "Model:                            OLS   Adj. R-squared (uncentered):              0.829\n",
            "Method:                 Least Squares   F-statistic:                              484.8\n",
            "Date:                Sun, 12 Sep 2021   Prob (F-statistic):                    6.28e-40\n",
            "Time:                        16:46:23   Log-Likelihood:                         -142.32\n",
            "No. Observations:                 100   AIC:                                      286.6\n",
            "Df Residuals:                      99   BIC:                                      289.3\n",
            "Df Model:                           1                                                  \n",
            "Covariance Type:            nonrobust                                                  \n",
            "==============================================================================\n",
            "                 coef    std err          t      P>|t|      [0.025      0.975]\n",
            "------------------------------------------------------------------------------\n",
            "x1             2.1280      0.097     22.017      0.000       1.936       2.320\n",
            "==============================================================================\n",
            "Omnibus:                        2.399   Durbin-Watson:                   1.848\n",
            "Prob(Omnibus):                  0.301   Jarque-Bera (JB):                1.901\n",
            "Skew:                          -0.165   Prob(JB):                        0.387\n",
            "Kurtosis:                       3.589   Cond. No.                         1.00\n",
            "==============================================================================\n",
            "\n",
            "Warnings:\n",
            "[1] Standard Errors assume that the covariance matrix of the errors is correctly specified.\n"
          ]
        }
      ]
    },
    {
      "cell_type": "markdown",
      "metadata": {
        "id": "U8NgqS4bAdQd"
      },
      "source": [
        "(b) Now perform a simple linear regression of x onto y without an\n",
        "intercept, and report the coefficient estimate, its standard error,\n",
        "and the corresponding t-statistic and p-values associated with\n",
        "the null hypothesis H0 : β = 0. Comment on these results.\n",
        "\n",
        "**Answer:** There is a drop in r-squared and t-statistic. But the associated pvalue to our t-statistic is near zero, thus the null-hypothesis is also rejected here"
      ]
    },
    {
      "cell_type": "code",
      "metadata": {
        "colab": {
          "base_uri": "https://localhost:8080/"
        },
        "id": "47NVvlVtAcn-",
        "outputId": "ad2885ff-b196-4661-803a-1ba5ccfdd7c5"
      },
      "source": [
        "random.seed(10)\n",
        "X_intercept=sm.add_constant(X)\n",
        "model=sm.OLS(y,X_intercept).fit() #Model with intercept\n",
        "print(model.summary())"
      ],
      "execution_count": null,
      "outputs": [
        {
          "output_type": "stream",
          "name": "stdout",
          "text": [
            "                            OLS Regression Results                            \n",
            "==============================================================================\n",
            "Dep. Variable:                      y   R-squared:                       0.831\n",
            "Model:                            OLS   Adj. R-squared:                  0.829\n",
            "Method:                 Least Squares   F-statistic:                     481.5\n",
            "Date:                Sun, 12 Sep 2021   Prob (F-statistic):           1.33e-39\n",
            "Time:                        16:46:23   Log-Likelihood:                -142.11\n",
            "No. Observations:                 100   AIC:                             288.2\n",
            "Df Residuals:                      98   BIC:                             293.4\n",
            "Df Model:                           1                                         \n",
            "Covariance Type:            nonrobust                                         \n",
            "==============================================================================\n",
            "                 coef    std err          t      P>|t|      [0.025      0.975]\n",
            "------------------------------------------------------------------------------\n",
            "const          0.0661      0.101      0.653      0.515      -0.135       0.267\n",
            "x1             2.1273      0.097     21.944      0.000       1.935       2.320\n",
            "==============================================================================\n",
            "Omnibus:                        2.405   Durbin-Watson:                   1.856\n",
            "Prob(Omnibus):                  0.300   Jarque-Bera (JB):                1.907\n",
            "Skew:                          -0.166   Prob(JB):                        0.385\n",
            "Kurtosis:                       3.590   Cond. No.                         1.05\n",
            "==============================================================================\n",
            "\n",
            "Warnings:\n",
            "[1] Standard Errors assume that the covariance matrix of the errors is correctly specified.\n"
          ]
        }
      ]
    },
    {
      "cell_type": "markdown",
      "metadata": {
        "id": "NTPNpFEtAxiA"
      },
      "source": [
        "(c) What is the relationship between the results obtained in (a) and\n",
        "(b)?\n",
        "\n",
        "**Answer:** Although there is little drop in r-squared value, both models are highly statistically significant to the dependent variable y. This indicates that both models could be written in different forms \n",
        "\n",
        "**d & e)** is skipped\n",
        "\n",
        "f) Show that when regression is performed with an intercept,\n",
        "the t-statistic for H0 : β1 = 0 is the same for the regression of y\n",
        "onto x as it is for the regression of x onto y.\n",
        "\n",
        "**Answer:** From the regression results we can see that they are the same"
      ]
    },
    {
      "cell_type": "code",
      "metadata": {
        "colab": {
          "base_uri": "https://localhost:8080/"
        },
        "id": "Q_6VBOIsD7EA",
        "outputId": "f23eb15c-8de8-461c-c3d0-a0f75a9ea228"
      },
      "source": [
        "y_intercept=sm.add_constant(y)\n",
        "model_x=sm.OLS(X,y_intercept).fit()\n",
        "\n",
        "\n",
        "model_y=sm.OLS(y,X_intercept).fit()\n",
        "\n",
        "print(f\"Regression of y onto X: {model_x.summary()}\\n\")\n",
        "print(f\"\\nRegression of X onto y: {model_y.summary()}\")"
      ],
      "execution_count": null,
      "outputs": [
        {
          "output_type": "stream",
          "name": "stdout",
          "text": [
            "Regression of y onto X:                             OLS Regression Results                            \n",
            "==============================================================================\n",
            "Dep. Variable:                      y   R-squared:                       0.831\n",
            "Model:                            OLS   Adj. R-squared:                  0.829\n",
            "Method:                 Least Squares   F-statistic:                     481.5\n",
            "Date:                Sun, 12 Sep 2021   Prob (F-statistic):           1.33e-39\n",
            "Time:                        16:46:23   Log-Likelihood:                -57.359\n",
            "No. Observations:                 100   AIC:                             118.7\n",
            "Df Residuals:                      98   BIC:                             123.9\n",
            "Df Model:                           1                                         \n",
            "Covariance Type:            nonrobust                                         \n",
            "==============================================================================\n",
            "                 coef    std err          t      P>|t|      [0.025      0.975]\n",
            "------------------------------------------------------------------------------\n",
            "const         -0.0237      0.043     -0.546      0.587      -0.110       0.062\n",
            "x1             0.3906      0.018     21.944      0.000       0.355       0.426\n",
            "==============================================================================\n",
            "Omnibus:                        1.144   Durbin-Watson:                   1.922\n",
            "Prob(Omnibus):                  0.564   Jarque-Bera (JB):                0.654\n",
            "Skew:                          -0.131   Prob(JB):                        0.721\n",
            "Kurtosis:                       3.298   Cond. No.                         2.44\n",
            "==============================================================================\n",
            "\n",
            "Warnings:\n",
            "[1] Standard Errors assume that the covariance matrix of the errors is correctly specified.\n",
            "\n",
            "\n",
            "Regression of X onto y:                             OLS Regression Results                            \n",
            "==============================================================================\n",
            "Dep. Variable:                      y   R-squared:                       0.831\n",
            "Model:                            OLS   Adj. R-squared:                  0.829\n",
            "Method:                 Least Squares   F-statistic:                     481.5\n",
            "Date:                Sun, 12 Sep 2021   Prob (F-statistic):           1.33e-39\n",
            "Time:                        16:46:23   Log-Likelihood:                -142.11\n",
            "No. Observations:                 100   AIC:                             288.2\n",
            "Df Residuals:                      98   BIC:                             293.4\n",
            "Df Model:                           1                                         \n",
            "Covariance Type:            nonrobust                                         \n",
            "==============================================================================\n",
            "                 coef    std err          t      P>|t|      [0.025      0.975]\n",
            "------------------------------------------------------------------------------\n",
            "const          0.0661      0.101      0.653      0.515      -0.135       0.267\n",
            "x1             2.1273      0.097     21.944      0.000       1.935       2.320\n",
            "==============================================================================\n",
            "Omnibus:                        2.405   Durbin-Watson:                   1.856\n",
            "Prob(Omnibus):                  0.300   Jarque-Bera (JB):                1.907\n",
            "Skew:                          -0.166   Prob(JB):                        0.385\n",
            "Kurtosis:                       3.590   Cond. No.                         1.05\n",
            "==============================================================================\n",
            "\n",
            "Warnings:\n",
            "[1] Standard Errors assume that the covariance matrix of the errors is correctly specified.\n"
          ]
        }
      ]
    },
    {
      "cell_type": "markdown",
      "metadata": {
        "id": "0J_1yeiq4yP0"
      },
      "source": [
        "**12.** This problem involves simple linear regression without an intercept.\n",
        "\n",
        "A) **Note:** its conceptual so its skipped!\n",
        "\n",
        "B) Generate an example with n = 100 observations in which\n",
        "the coefficient estimate for the regression of X onto Y is different\n",
        "from the coefficient estimate for the regression of Y onto X.\n",
        "\n",
        "**Answer:** The coeffecients are different for each model. A regression of X onto y yiels the coeff: **5.829e-16** and y onto X yields: **0.2000**"
      ]
    },
    {
      "cell_type": "code",
      "metadata": {
        "colab": {
          "base_uri": "https://localhost:8080/"
        },
        "id": "FMeu7U1B4x3h",
        "outputId": "fdb1096d-f664-405e-f391-259ab5f01903"
      },
      "source": [
        "random.seed(10)\n",
        "\n",
        "X=np.random.normal(size=100)\n",
        "y=5*X\n",
        "\n",
        "model_y=sm.OLS(y,X).fit()\n",
        "model_x=sm.OLS(X,y).fit()\n",
        "\n",
        "print(model_y.summary())\n",
        "print(model_x.summary())"
      ],
      "execution_count": null,
      "outputs": [
        {
          "output_type": "stream",
          "name": "stdout",
          "text": [
            "                                 OLS Regression Results                                \n",
            "=======================================================================================\n",
            "Dep. Variable:                      y   R-squared (uncentered):                   1.000\n",
            "Model:                            OLS   Adj. R-squared (uncentered):              1.000\n",
            "Method:                 Least Squares   F-statistic:                                inf\n",
            "Date:                Sun, 12 Sep 2021   Prob (F-statistic):                        0.00\n",
            "Time:                        16:46:24   Log-Likelihood:                             inf\n",
            "No. Observations:                 100   AIC:                                       -inf\n",
            "Df Residuals:                      99   BIC:                                       -inf\n",
            "Df Model:                           1                                                  \n",
            "Covariance Type:            nonrobust                                                  \n",
            "==============================================================================\n",
            "                 coef    std err          t      P>|t|      [0.025      0.975]\n",
            "------------------------------------------------------------------------------\n",
            "x1             5.0000          0        inf      0.000       5.000       5.000\n",
            "==============================================================================\n",
            "Omnibus:                      498.152   Durbin-Watson:                     nan\n",
            "Prob(Omnibus):                  0.000   Jarque-Bera (JB):               37.500\n",
            "Skew:                           0.000   Prob(JB):                     7.19e-09\n",
            "Kurtosis:                       0.000   Cond. No.                         1.00\n",
            "==============================================================================\n",
            "\n",
            "Warnings:\n",
            "[1] Standard Errors assume that the covariance matrix of the errors is correctly specified.\n",
            "                                 OLS Regression Results                                \n",
            "=======================================================================================\n",
            "Dep. Variable:                      y   R-squared (uncentered):                   1.000\n",
            "Model:                            OLS   Adj. R-squared (uncentered):              1.000\n",
            "Method:                 Least Squares   F-statistic:                          6.785e+33\n",
            "Date:                Sun, 12 Sep 2021   Prob (F-statistic):                        0.00\n",
            "Time:                        16:46:24   Log-Likelihood:                          3527.9\n",
            "No. Observations:                 100   AIC:                                     -7054.\n",
            "Df Residuals:                      99   BIC:                                     -7051.\n",
            "Df Model:                           1                                                  \n",
            "Covariance Type:            nonrobust                                                  \n",
            "==============================================================================\n",
            "                 coef    std err          t      P>|t|      [0.025      0.975]\n",
            "------------------------------------------------------------------------------\n",
            "x1             0.2000   2.43e-18   8.24e+16      0.000       0.200       0.200\n",
            "==============================================================================\n",
            "Omnibus:                       13.908   Durbin-Watson:                   2.198\n",
            "Prob(Omnibus):                  0.001   Jarque-Bera (JB):               50.472\n",
            "Skew:                          -0.043   Prob(JB):                     1.10e-11\n",
            "Kurtosis:                       6.479   Cond. No.                         1.00\n",
            "==============================================================================\n",
            "\n",
            "Warnings:\n",
            "[1] Standard Errors assume that the covariance matrix of the errors is correctly specified.\n"
          ]
        },
        {
          "output_type": "stream",
          "name": "stderr",
          "text": [
            "/usr/local/lib/python3.7/dist-packages/statsmodels/regression/linear_model.py:1708: RuntimeWarning: divide by zero encountered in double_scalars\n",
            "  return self.mse_model/self.mse_resid\n",
            "/usr/local/lib/python3.7/dist-packages/statsmodels/regression/linear_model.py:867: RuntimeWarning: divide by zero encountered in log\n",
            "  llf = -nobs2*np.log(2*np.pi) - nobs2*np.log(ssr / nobs) - nobs2\n",
            "/usr/local/lib/python3.7/dist-packages/statsmodels/stats/stattools.py:46: RuntimeWarning: invalid value encountered in double_scalars\n",
            "  dw = np.sum(diff_resids**2, axis=axis) / np.sum(resids**2, axis=axis)\n",
            "/usr/local/lib/python3.7/dist-packages/statsmodels/base/model.py:1294: RuntimeWarning: divide by zero encountered in true_divide\n",
            "  return self.params / self.bse\n"
          ]
        }
      ]
    },
    {
      "cell_type": "markdown",
      "metadata": {
        "id": "b3cg7vek6vDf"
      },
      "source": [
        "(c) Generate an example with n = 100 observations in which\n",
        "the coefficient estimate for the regression of X onto Y is the\n",
        "same as the coefficient estimate for the regression of Y onto X.\n",
        "\n",
        "**Answer:** We can do this using random.sample from our feature vector X to generate a sampled vector of X. The coefficients are **-0.0242**"
      ]
    },
    {
      "cell_type": "code",
      "metadata": {
        "colab": {
          "base_uri": "https://localhost:8080/"
        },
        "id": "MPQlv5Mt6s8n",
        "outputId": "d0bc6fa7-327a-4b4f-846d-77b5c1e0bae1"
      },
      "source": [
        "random.seed(10)\n",
        "\n",
        "X=np.random.normal(size=100)\n",
        "y=random.sample(list(X),100)\n",
        "\n",
        "model_y=sm.OLS(y,X).fit()\n",
        "model_x=sm.OLS(X,y).fit()\n",
        "\n",
        "print(model_y.summary())\n",
        "print(model_x.summary())"
      ],
      "execution_count": null,
      "outputs": [
        {
          "output_type": "stream",
          "name": "stdout",
          "text": [
            "                                 OLS Regression Results                                \n",
            "=======================================================================================\n",
            "Dep. Variable:                      y   R-squared (uncentered):                   0.005\n",
            "Model:                            OLS   Adj. R-squared (uncentered):             -0.005\n",
            "Method:                 Least Squares   F-statistic:                             0.4540\n",
            "Date:                Sun, 12 Sep 2021   Prob (F-statistic):                       0.502\n",
            "Time:                        16:46:24   Log-Likelihood:                         -148.13\n",
            "No. Observations:                 100   AIC:                                      298.3\n",
            "Df Residuals:                      99   BIC:                                      300.9\n",
            "Df Model:                           1                                                  \n",
            "Covariance Type:            nonrobust                                                  \n",
            "==============================================================================\n",
            "                 coef    std err          t      P>|t|      [0.025      0.975]\n",
            "------------------------------------------------------------------------------\n",
            "x1            -0.0676      0.100     -0.674      0.502      -0.267       0.131\n",
            "==============================================================================\n",
            "Omnibus:                        3.079   Durbin-Watson:                   1.821\n",
            "Prob(Omnibus):                  0.214   Jarque-Bera (JB):                2.422\n",
            "Skew:                          -0.319   Prob(JB):                        0.298\n",
            "Kurtosis:                       3.416   Cond. No.                         1.00\n",
            "==============================================================================\n",
            "\n",
            "Warnings:\n",
            "[1] Standard Errors assume that the covariance matrix of the errors is correctly specified.\n",
            "                                 OLS Regression Results                                \n",
            "=======================================================================================\n",
            "Dep. Variable:                      y   R-squared (uncentered):                   0.005\n",
            "Model:                            OLS   Adj. R-squared (uncentered):             -0.005\n",
            "Method:                 Least Squares   F-statistic:                             0.4540\n",
            "Date:                Sun, 12 Sep 2021   Prob (F-statistic):                       0.502\n",
            "Time:                        16:46:24   Log-Likelihood:                         -148.13\n",
            "No. Observations:                 100   AIC:                                      298.3\n",
            "Df Residuals:                      99   BIC:                                      300.9\n",
            "Df Model:                           1                                                  \n",
            "Covariance Type:            nonrobust                                                  \n",
            "==============================================================================\n",
            "                 coef    std err          t      P>|t|      [0.025      0.975]\n",
            "------------------------------------------------------------------------------\n",
            "x1            -0.0676      0.100     -0.674      0.502      -0.267       0.131\n",
            "==============================================================================\n",
            "Omnibus:                        3.303   Durbin-Watson:                   2.044\n",
            "Prob(Omnibus):                  0.192   Jarque-Bera (JB):                2.644\n",
            "Skew:                          -0.323   Prob(JB):                        0.267\n",
            "Kurtosis:                       3.467   Cond. No.                         1.00\n",
            "==============================================================================\n",
            "\n",
            "Warnings:\n",
            "[1] Standard Errors assume that the covariance matrix of the errors is correctly specified.\n"
          ]
        }
      ]
    },
    {
      "cell_type": "markdown",
      "metadata": {
        "id": "Q1fhXgPxNOHT"
      },
      "source": [
        "**13.** In this exercise, you will create some simulated data, and will fit\n",
        "simple linear regression models to it.\n",
        "\n",
        "**a)** create a vector, x, containing 100\n",
        "observations drawn from a N(0, 1) distribution. This represents\n",
        "a feature, X."
      ]
    },
    {
      "cell_type": "code",
      "metadata": {
        "id": "u9q5z9f3NU7G"
      },
      "source": [
        "random.seed(10)\n",
        "mi, std=0,1\n",
        "\n",
        "X_vec=np.random.normal(mi,std,100)"
      ],
      "execution_count": null,
      "outputs": []
    },
    {
      "cell_type": "markdown",
      "metadata": {
        "id": "tx2769niQGcE"
      },
      "source": [
        "**b)** create a vector, eps, containing 100\n",
        "observations drawn from a N(0, 0.25) distribution. This represents\n",
        "the noise vector, ǫ."
      ]
    },
    {
      "cell_type": "code",
      "metadata": {
        "id": "YdOm9DQfQLM3"
      },
      "source": [
        "random.seed(10)\n",
        "mi,std=0,np.sqrt(0.25)\n",
        "\n",
        "eps=np.random.normal(mi,std,100)"
      ],
      "execution_count": null,
      "outputs": []
    },
    {
      "cell_type": "markdown",
      "metadata": {
        "id": "LDkwBRykQRjp"
      },
      "source": [
        "**c)** Using x and eps, generate a vector y according to the model:\n",
        "\n",
        "Y = −1 + 0.5X + ǫ\n",
        "\n",
        "What is the length of the vector y? What are the values of β0\n",
        "and β1 in this linear model?\n",
        "\n",
        "**Answer:** Length is 100, b0 is -1 and b1 is 0.5"
      ]
    },
    {
      "cell_type": "code",
      "metadata": {
        "colab": {
          "base_uri": "https://localhost:8080/"
        },
        "id": "G_RCSfwmQYbz",
        "outputId": "011637ae-0091-4bf9-8612-9eb212862c7c"
      },
      "source": [
        "y=-1+0.5*X_vec+eps\n",
        "\n",
        "print(f\"The length of vector y is: {len(y)}\")"
      ],
      "execution_count": null,
      "outputs": [
        {
          "output_type": "stream",
          "name": "stdout",
          "text": [
            "The length of vector y is: 100\n"
          ]
        }
      ]
    },
    {
      "cell_type": "markdown",
      "metadata": {
        "id": "qd3vXcmLQzUG"
      },
      "source": [
        "**d)** Create a scatterplot displaying the relationship between x and\n",
        "y. Comment on what you observe.\n",
        "\n",
        "**Answer:** We can detect linearity between x and y while there are noise in it"
      ]
    },
    {
      "cell_type": "code",
      "metadata": {
        "colab": {
          "base_uri": "https://localhost:8080/",
          "height": 337
        },
        "id": "meyJGuRcQ3Q-",
        "outputId": "ec3520f7-aff7-44a0-8f8a-82a17d5a6664"
      },
      "source": [
        "plt.scatter(X_vec,y)"
      ],
      "execution_count": null,
      "outputs": [
        {
          "output_type": "execute_result",
          "data": {
            "text/plain": [
              "<matplotlib.collections.PathCollection at 0x7efd4266ce50>"
            ]
          },
          "metadata": {},
          "execution_count": 23
        },
        {
          "output_type": "display_data",
          "data": {
            "image/png": "[encoded data removed]",
            "text/plain": [
              "<Figure size 504x360 with 1 Axes>"
            ]
          },
          "metadata": {
            "needs_background": "light"
          }
        }
      ]
    },
    {
      "cell_type": "markdown",
      "metadata": {
        "id": "AQNZe26PRHJ7"
      },
      "source": [
        "**e)** Fit a least squares linear model to predict y using x. Comment\n",
        "on the model obtained. How do ˆ β0 and ˆ β1 compare to β0 and\n",
        "β1?\n",
        "\n",
        "**Answer:** they are very close to each other. b0 is -0.9995 while b1 is 0.4995"
      ]
    },
    {
      "cell_type": "code",
      "metadata": {
        "colab": {
          "base_uri": "https://localhost:8080/"
        },
        "id": "uN5md0c0RJls",
        "outputId": "2c4facae-239b-4a41-886f-564d40555e44"
      },
      "source": [
        "X=sm.add_constant(X_vec)\n",
        "model_original=sm.OLS(y,X).fit()\n",
        "\n",
        "print(model_original.summary())"
      ],
      "execution_count": null,
      "outputs": [
        {
          "output_type": "stream",
          "name": "stdout",
          "text": [
            "                            OLS Regression Results                            \n",
            "==============================================================================\n",
            "Dep. Variable:                      y   R-squared:                       0.589\n",
            "Model:                            OLS   Adj. R-squared:                  0.585\n",
            "Method:                 Least Squares   F-statistic:                     140.5\n",
            "Date:                Sun, 12 Sep 2021   Prob (F-statistic):           1.23e-20\n",
            "Time:                        16:46:24   Log-Likelihood:                -71.095\n",
            "No. Observations:                 100   AIC:                             146.2\n",
            "Df Residuals:                      98   BIC:                             151.4\n",
            "Df Model:                           1                                         \n",
            "Covariance Type:            nonrobust                                         \n",
            "==============================================================================\n",
            "                 coef    std err          t      P>|t|      [0.025      0.975]\n",
            "------------------------------------------------------------------------------\n",
            "const         -1.0178      0.050    -20.408      0.000      -1.117      -0.919\n",
            "x1             0.5389      0.045     11.854      0.000       0.449       0.629\n",
            "==============================================================================\n",
            "Omnibus:                        3.085   Durbin-Watson:                   1.847\n",
            "Prob(Omnibus):                  0.214   Jarque-Bera (JB):                2.516\n",
            "Skew:                           0.371   Prob(JB):                        0.284\n",
            "Kurtosis:                       3.231   Cond. No.                         1.12\n",
            "==============================================================================\n",
            "\n",
            "Warnings:\n",
            "[1] Standard Errors assume that the covariance matrix of the errors is correctly specified.\n"
          ]
        }
      ]
    },
    {
      "cell_type": "markdown",
      "metadata": {
        "id": "0ET15VRURiiv"
      },
      "source": [
        "**f)** Display the least squares line on the scatterplot obtained in (d).\n",
        "Draw the population regression line on the plot, in a different\n",
        "color. create an appropriate legend."
      ]
    },
    {
      "cell_type": "code",
      "metadata": {
        "colab": {
          "base_uri": "https://localhost:8080/",
          "height": 337
        },
        "id": "CDDRwJYsRnwH",
        "outputId": "47d6a724-5229-42ce-a97f-3d252532d486"
      },
      "source": [
        "pred=model.predict(X)\n",
        "\n",
        "plt.scatter(X_vec,y)\n",
        "plt.plot(X_vec,pred,color=\"red\")\n",
        "plt.legend(['Least square line'])"
      ],
      "execution_count": null,
      "outputs": [
        {
          "output_type": "execute_result",
          "data": {
            "text/plain": [
              "<matplotlib.legend.Legend at 0x7efd426cf310>"
            ]
          },
          "metadata": {},
          "execution_count": 25
        },
        {
          "output_type": "display_data",
          "data": {
            "image/png": "[encoded data removed]",
            "text/plain": [
              "<Figure size 504x360 with 1 Axes>"
            ]
          },
          "metadata": {
            "needs_background": "light"
          }
        }
      ]
    },
    {
      "cell_type": "markdown",
      "metadata": {
        "id": "tAOORVUpXjiw"
      },
      "source": [
        "**g)** Now fit a polynomial regression model that predicts y using x\n",
        "and x2. Is there evidence that the quadratic term improves the\n",
        "model fit? Explain your answer.\n",
        "\n",
        "**Note:** For this problem we are going to use sklearn. I want to avoid R's style of notation as much as possible\n",
        "\n",
        "**Answer:** The improvemnet is minor which also shows that there really isnt a statistical significance between x^2 and y"
      ]
    },
    {
      "cell_type": "code",
      "metadata": {
        "colab": {
          "base_uri": "https://localhost:8080/",
          "height": 417
        },
        "id": "dlaq-2jNuYh1",
        "outputId": "fb111ba7-b1fe-47fc-8f9e-3abb3eb4bbba"
      },
      "source": [
        "X_squared=[i**2 for i in X_vec]\n",
        "\n",
        "df= pd.DataFrame(list(zip(X_vec, X_squared)),\n",
        "               columns =['X', 'X^2'])\n",
        "df\n"
      ],
      "execution_count": null,
      "outputs": [
        {
          "output_type": "execute_result",
          "data": {
            "text/html": [
              "<div>\n",
              "<style scoped>\n",
              "    .dataframe tbody tr th:only-of-type {\n",
              "        vertical-align: middle;\n",
              "    }\n",
              "\n",
              "    .dataframe tbody tr th {\n",
              "        vertical-align: top;\n",
              "    }\n",
              "\n",
              "    .dataframe thead th {\n",
              "        text-align: right;\n",
              "    }\n",
              "</style>\n",
              "<table border=\"1\" class=\"dataframe\">\n",
              "  <thead>\n",
              "    <tr style=\"text-align: right;\">\n",
              "      <th></th>\n",
              "      <th>X</th>\n",
              "      <th>X^2</th>\n",
              "    </tr>\n",
              "  </thead>\n",
              "  <tbody>\n",
              "    <tr>\n",
              "      <th>0</th>\n",
              "      <td>-0.563635</td>\n",
              "      <td>0.317684</td>\n",
              "    </tr>\n",
              "    <tr>\n",
              "      <th>1</th>\n",
              "      <td>1.305714</td>\n",
              "      <td>1.704890</td>\n",
              "    </tr>\n",
              "    <tr>\n",
              "      <th>2</th>\n",
              "      <td>1.415361</td>\n",
              "      <td>2.003245</td>\n",
              "    </tr>\n",
              "    <tr>\n",
              "      <th>3</th>\n",
              "      <td>0.570451</td>\n",
              "      <td>0.325414</td>\n",
              "    </tr>\n",
              "    <tr>\n",
              "      <th>4</th>\n",
              "      <td>1.096865</td>\n",
              "      <td>1.203113</td>\n",
              "    </tr>\n",
              "    <tr>\n",
              "      <th>...</th>\n",
              "      <td>...</td>\n",
              "      <td>...</td>\n",
              "    </tr>\n",
              "    <tr>\n",
              "      <th>95</th>\n",
              "      <td>1.806103</td>\n",
              "      <td>3.262008</td>\n",
              "    </tr>\n",
              "    <tr>\n",
              "      <th>96</th>\n",
              "      <td>2.611019</td>\n",
              "      <td>6.817419</td>\n",
              "    </tr>\n",
              "    <tr>\n",
              "      <th>97</th>\n",
              "      <td>1.561291</td>\n",
              "      <td>2.437629</td>\n",
              "    </tr>\n",
              "    <tr>\n",
              "      <th>98</th>\n",
              "      <td>-1.090328</td>\n",
              "      <td>1.188815</td>\n",
              "    </tr>\n",
              "    <tr>\n",
              "      <th>99</th>\n",
              "      <td>-1.492200</td>\n",
              "      <td>2.226662</td>\n",
              "    </tr>\n",
              "  </tbody>\n",
              "</table>\n",
              "<p>100 rows × 2 columns</p>\n",
              "</div>"
            ],
            "text/plain": [
              "           X       X^2\n",
              "0  -0.563635  0.317684\n",
              "1   1.305714  1.704890\n",
              "2   1.415361  2.003245\n",
              "3   0.570451  0.325414\n",
              "4   1.096865  1.203113\n",
              "..       ...       ...\n",
              "95  1.806103  3.262008\n",
              "96  2.611019  6.817419\n",
              "97  1.561291  2.437629\n",
              "98 -1.090328  1.188815\n",
              "99 -1.492200  2.226662\n",
              "\n",
              "[100 rows x 2 columns]"
            ]
          },
          "metadata": {},
          "execution_count": 26
        }
      ]
    },
    {
      "cell_type": "code",
      "metadata": {
        "colab": {
          "base_uri": "https://localhost:8080/"
        },
        "id": "GTi8pL9a0KKk",
        "outputId": "39ddee52-8e50-44d3-c64f-9e9fd07b91c0"
      },
      "source": [
        "from sklearn.linear_model import LinearRegression\n",
        "from sklearn.metrics import r2_score\n",
        "\n",
        "X=df[['X','X^2']].values\n",
        "\n",
        "\n",
        "reg=LinearRegression()\n",
        "reg.fit(X,y)\n",
        "print(f\"The R2 value when adding x^2 is: {reg.score(X,y)}\")"
      ],
      "execution_count": null,
      "outputs": [
        {
          "output_type": "stream",
          "name": "stdout",
          "text": [
            "The R2 value when adding x^2 is: 0.5902489008976461\n"
          ]
        }
      ]
    },
    {
      "cell_type": "markdown",
      "metadata": {
        "id": "9-MlIAzh7ggN"
      },
      "source": [
        "**h & i)** Repeat (a)-(f) after modifying the data generation process in\n",
        "such a way that there is less noise in the data. The model \n",
        "should remain the same. You can do this by decreasing the variance\n",
        "of the normal distribution used to generate the error term\n",
        "ǫ in (b). Describe your results.\n",
        "\n",
        "**Answer:** with less noise the result is obviously better, but if there arent any noise in dataset ie a noise of 0, that yiels a great result but at the cost of generalization!! With higher noise the result gets worse!"
      ]
    },
    {
      "cell_type": "code",
      "metadata": {
        "id": "XgP5z2ZMA07C"
      },
      "source": [
        "random.seed(10)\n",
        "mi, std=0,1\n",
        "\n",
        "X_vec=np.random.normal(mi,std,100)"
      ],
      "execution_count": null,
      "outputs": []
    },
    {
      "cell_type": "code",
      "metadata": {
        "colab": {
          "base_uri": "https://localhost:8080/"
        },
        "id": "lXDQvWXP8xas",
        "outputId": "68709351-8fd6-483d-8bc2-6e3e34f2dfbc"
      },
      "source": [
        "random.seed(10)\n",
        "mi, std=0,np.sqrt(0.2)\n",
        "\n",
        "eps=np.random.normal(mi,std,100)\n",
        "y=-1+0.5*X_vec+eps\n",
        "\n",
        "\n",
        "X=sm.add_constant(X_vec)\n",
        "model_lessnoise=sm.OLS(y,X).fit()\n",
        "\n",
        "print(model_lessnoise.summary())"
      ],
      "execution_count": null,
      "outputs": [
        {
          "output_type": "stream",
          "name": "stdout",
          "text": [
            "                            OLS Regression Results                            \n",
            "==============================================================================\n",
            "Dep. Variable:                      y   R-squared:                       0.642\n",
            "Model:                            OLS   Adj. R-squared:                  0.638\n",
            "Method:                 Least Squares   F-statistic:                     175.4\n",
            "Date:                Sun, 12 Sep 2021   Prob (F-statistic):           1.47e-23\n",
            "Time:                        16:46:24   Log-Likelihood:                -33.245\n",
            "No. Observations:                 100   AIC:                             70.49\n",
            "Df Residuals:                      98   BIC:                             75.70\n",
            "Df Model:                           1                                         \n",
            "Covariance Type:            nonrobust                                         \n",
            "==============================================================================\n",
            "                 coef    std err          t      P>|t|      [0.025      0.975]\n",
            "------------------------------------------------------------------------------\n",
            "const         -1.0385      0.035    -30.067      0.000      -1.107      -0.970\n",
            "x1             0.4532      0.034     13.243      0.000       0.385       0.521\n",
            "==============================================================================\n",
            "Omnibus:                        0.415   Durbin-Watson:                   1.769\n",
            "Prob(Omnibus):                  0.813   Jarque-Bera (JB):                0.119\n",
            "Skew:                           0.050   Prob(JB):                        0.942\n",
            "Kurtosis:                       3.136   Cond. No.                         1.18\n",
            "==============================================================================\n",
            "\n",
            "Warnings:\n",
            "[1] Standard Errors assume that the covariance matrix of the errors is correctly specified.\n"
          ]
        }
      ]
    },
    {
      "cell_type": "code",
      "metadata": {
        "colab": {
          "base_uri": "https://localhost:8080/"
        },
        "id": "Lkhh4UQi-K3d",
        "outputId": "3416a469-4dab-43bc-aa0b-8fc9ca4ade91"
      },
      "source": [
        "random.seed(10)\n",
        "mi, std=0,np.sqrt(0.7)\n",
        "\n",
        "eps=np.random.normal(mi,std,100)\n",
        "y=-1+0.5*X_vec+eps\n",
        "\n",
        "X=sm.add_constant(X_vec)\n",
        "model_highnoise=sm.OLS(y,X).fit()\n",
        "\n",
        "\n",
        "\n",
        "print(model_highnoise.summary())"
      ],
      "execution_count": null,
      "outputs": [
        {
          "output_type": "stream",
          "name": "stdout",
          "text": [
            "                            OLS Regression Results                            \n",
            "==============================================================================\n",
            "Dep. Variable:                      y   R-squared:                       0.278\n",
            "Model:                            OLS   Adj. R-squared:                  0.271\n",
            "Method:                 Least Squares   F-statistic:                     37.72\n",
            "Date:                Sun, 12 Sep 2021   Prob (F-statistic):           1.75e-08\n",
            "Time:                        16:46:24   Log-Likelihood:                -122.53\n",
            "No. Observations:                 100   AIC:                             249.1\n",
            "Df Residuals:                      98   BIC:                             254.3\n",
            "Df Model:                           1                                         \n",
            "Covariance Type:            nonrobust                                         \n",
            "==============================================================================\n",
            "                 coef    std err          t      P>|t|      [0.025      0.975]\n",
            "------------------------------------------------------------------------------\n",
            "const         -0.9668      0.084    -11.463      0.000      -1.134      -0.799\n",
            "x1             0.5132      0.084      6.142      0.000       0.347       0.679\n",
            "==============================================================================\n",
            "Omnibus:                        0.592   Durbin-Watson:                   2.027\n",
            "Prob(Omnibus):                  0.744   Jarque-Bera (JB):                0.699\n",
            "Skew:                          -0.034   Prob(JB):                        0.705\n",
            "Kurtosis:                       2.596   Cond. No.                         1.18\n",
            "==============================================================================\n",
            "\n",
            "Warnings:\n",
            "[1] Standard Errors assume that the covariance matrix of the errors is correctly specified.\n"
          ]
        }
      ]
    },
    {
      "cell_type": "markdown",
      "metadata": {
        "id": "yZ58s5BbBY23"
      },
      "source": [
        "**j)** What are the confidence intervals for β0 and β1 based on the\n",
        "original data set, the noisier data set, and the less noisy data\n",
        "set? Comment on your results."
      ]
    },
    {
      "cell_type": "code",
      "metadata": {
        "colab": {
          "base_uri": "https://localhost:8080/"
        },
        "id": "Jp3AROh9Ba11",
        "outputId": "343b130e-8221-4956-eb2b-3f3c2b805065"
      },
      "source": [
        "model_original.conf_int(alpha=0.05)"
      ],
      "execution_count": null,
      "outputs": [
        {
          "output_type": "execute_result",
          "data": {
            "text/plain": [
              "array([[-1.1167974 , -0.91885518],\n",
              "       [ 0.44869183,  0.62912825]])"
            ]
          },
          "metadata": {},
          "execution_count": 31
        }
      ]
    },
    {
      "cell_type": "code",
      "metadata": {
        "colab": {
          "base_uri": "https://localhost:8080/"
        },
        "id": "MrrJJKgTCts5",
        "outputId": "c5c47407-1ba0-4c8e-c55b-6f7537b38749"
      },
      "source": [
        "model_lessnoise.conf_int(alpha=0.05)"
      ],
      "execution_count": null,
      "outputs": [
        {
          "output_type": "execute_result",
          "data": {
            "text/plain": [
              "array([[-1.1070778 , -0.96998831],\n",
              "       [ 0.38527355,  0.52109444]])"
            ]
          },
          "metadata": {},
          "execution_count": 32
        }
      ]
    },
    {
      "cell_type": "code",
      "metadata": {
        "colab": {
          "base_uri": "https://localhost:8080/"
        },
        "id": "7Zb0o5QLCwNH",
        "outputId": "d09cdd04-fab5-451b-f446-a6ddb020bf81"
      },
      "source": [
        "model_highnoise.conf_int(alpha=0.05)"
      ],
      "execution_count": null,
      "outputs": [
        {
          "output_type": "execute_result",
          "data": {
            "text/plain": [
              "array([[-1.13422425, -0.79945636],\n",
              "       [ 0.34740135,  0.67907137]])"
            ]
          },
          "metadata": {},
          "execution_count": 33
        }
      ]
    },
    {
      "cell_type": "markdown",
      "metadata": {
        "id": "B7SgaffThJKP"
      },
      "source": [
        "**14.** This problem focuses on the collinearity problem.\n",
        "\n",
        "\n",
        "A) Perform the following commands:"
      ]
    },
    {
      "cell_type": "code",
      "metadata": {
        "id": "t4BnbFeLhIs0"
      },
      "source": [
        "random.seed(1)\n",
        "\n",
        "x1 = np.random.uniform(size=100)\n",
        "x2 = 0.5*x1+np.random.normal(size=100)/10\n",
        "y = 2+2*x1 +0.3*x2+np.random.normal(size=100)"
      ],
      "execution_count": null,
      "outputs": []
    },
    {
      "cell_type": "markdown",
      "metadata": {
        "id": "r6EShklsjXYK"
      },
      "source": [
        "B) What is the correlation between x1 and x2? Create a scatterplot\n",
        "displaying the relationship between the variables."
      ]
    },
    {
      "cell_type": "code",
      "metadata": {
        "colab": {
          "base_uri": "https://localhost:8080/"
        },
        "id": "CEwS3jCGipF5",
        "outputId": "01a4733f-7a6c-40e9-d2b7-ef0cd102d75a"
      },
      "source": [
        "from scipy.stats.stats import pearsonr\n",
        "\n",
        "print(f\"The correlation is: {pearsonr(x1,x2)}\")"
      ],
      "execution_count": null,
      "outputs": [
        {
          "output_type": "stream",
          "name": "stdout",
          "text": [
            "The correlation is: (0.8063144928036274, 4.436512234371825e-24)\n"
          ]
        }
      ]
    },
    {
      "cell_type": "code",
      "metadata": {
        "colab": {
          "base_uri": "https://localhost:8080/",
          "height": 337
        },
        "id": "GpOfS1cUiZek",
        "outputId": "05a4de04-b7b8-44c3-84b4-e9c1473f60d9"
      },
      "source": [
        "plt.scatter(x1,x2)"
      ],
      "execution_count": null,
      "outputs": [
        {
          "output_type": "execute_result",
          "data": {
            "text/plain": [
              "<matplotlib.collections.PathCollection at 0x7efd425de790>"
            ]
          },
          "metadata": {},
          "execution_count": 36
        },
        {
          "output_type": "display_data",
          "data": {
            "image/png": "[encoded data removed]",
            "text/plain": [
              "<Figure size 504x360 with 1 Axes>"
            ]
          },
          "metadata": {
            "needs_background": "light"
          }
        }
      ]
    },
    {
      "cell_type": "markdown",
      "metadata": {
        "id": "prTXP2jBim4W"
      },
      "source": [
        "C) Using this data, fit a least squares regression to predict y using\n",
        "x1 and x2. Describe the results obtained. What are ˆ β0, ˆ β1, and\n",
        "ˆ β2? How do these relate to the true β0, β1, and β2? Can you\n",
        "reject the null hypothesis H0 : β1 = 0? How about the null\n",
        "hypothesis H0 : β2 = 0?\n",
        "\n",
        "**Answer:** B0= 1.7554, B1=2.5317 and B2=0.5284. They are close to the true coefficients. The null hypothesis can be rejected for B0 and B1, but not B2 as its p-value is greater than 5%. "
      ]
    },
    {
      "cell_type": "code",
      "metadata": {
        "id": "zN7qUd4Wig-Z",
        "colab": {
          "base_uri": "https://localhost:8080/"
        },
        "outputId": "966f1b35-422a-4025-828b-8ad6456674be"
      },
      "source": [
        "df= pd.DataFrame(list(zip(x1,x2)),\n",
        "               columns =['x1', 'x2'])\n",
        "\n",
        "X=df[['x1','x2']]\n",
        "X=sm.add_constant(X)\n",
        "model=sm.OLS(y,X).fit()\n",
        "\n",
        "print(model.summary())"
      ],
      "execution_count": null,
      "outputs": [
        {
          "output_type": "stream",
          "name": "stdout",
          "text": [
            "                            OLS Regression Results                            \n",
            "==============================================================================\n",
            "Dep. Variable:                      y   R-squared:                       0.356\n",
            "Model:                            OLS   Adj. R-squared:                  0.343\n",
            "Method:                 Least Squares   F-statistic:                     26.85\n",
            "Date:                Sun, 12 Sep 2021   Prob (F-statistic):           5.26e-10\n",
            "Time:                        16:46:24   Log-Likelihood:                -141.70\n",
            "No. Observations:                 100   AIC:                             289.4\n",
            "Df Residuals:                      97   BIC:                             297.2\n",
            "Df Model:                           2                                         \n",
            "Covariance Type:            nonrobust                                         \n",
            "==============================================================================\n",
            "                 coef    std err          t      P>|t|      [0.025      0.975]\n",
            "------------------------------------------------------------------------------\n",
            "const          1.7554      0.205      8.558      0.000       1.348       2.163\n",
            "x1             2.5317      0.644      3.929      0.000       1.253       3.811\n",
            "x2             0.5284      1.077      0.491      0.625      -1.608       2.665\n",
            "==============================================================================\n",
            "Omnibus:                        1.139   Durbin-Watson:                   1.615\n",
            "Prob(Omnibus):                  0.566   Jarque-Bera (JB):                1.118\n",
            "Skew:                           0.249   Prob(JB):                        0.572\n",
            "Kurtosis:                       2.854   Cond. No.                         13.6\n",
            "==============================================================================\n",
            "\n",
            "Warnings:\n",
            "[1] Standard Errors assume that the covariance matrix of the errors is correctly specified.\n"
          ]
        }
      ]
    },
    {
      "cell_type": "markdown",
      "metadata": {
        "id": "mzFBzcuj7dnV"
      },
      "source": [
        "D) Now fit a least squares regression to predict y using only x1.\n",
        "Comment on your results. Can you reject the null hypothesis\n",
        "H0 : β1 = 0? \n",
        "\n",
        "**Answer:** Slightly better adjusted R2. The null hypothesis can be rejected as the pvalue is close to zero"
      ]
    },
    {
      "cell_type": "code",
      "metadata": {
        "id": "fSJRt_zX-zwf",
        "colab": {
          "base_uri": "https://localhost:8080/"
        },
        "outputId": "bc478c3a-1bc9-47f3-e4c7-87dce0f14700"
      },
      "source": [
        "X=df[['x1']]\n",
        "X=sm.add_constant(X)\n",
        "model=sm.OLS(y,X).fit()\n",
        "\n",
        "print(model.summary())"
      ],
      "execution_count": null,
      "outputs": [
        {
          "output_type": "stream",
          "name": "stdout",
          "text": [
            "                            OLS Regression Results                            \n",
            "==============================================================================\n",
            "Dep. Variable:                      y   R-squared:                       0.355\n",
            "Model:                            OLS   Adj. R-squared:                  0.348\n",
            "Method:                 Least Squares   F-statistic:                     53.87\n",
            "Date:                Sun, 12 Sep 2021   Prob (F-statistic):           6.32e-11\n",
            "Time:                        16:54:37   Log-Likelihood:                -141.82\n",
            "No. Observations:                 100   AIC:                             287.6\n",
            "Df Residuals:                      98   BIC:                             292.9\n",
            "Df Model:                           1                                         \n",
            "Covariance Type:            nonrobust                                         \n",
            "==============================================================================\n",
            "                 coef    std err          t      P>|t|      [0.025      0.975]\n",
            "------------------------------------------------------------------------------\n",
            "const          1.7595      0.204      8.618      0.000       1.354       2.165\n",
            "x1             2.7867      0.380      7.340      0.000       2.033       3.540\n",
            "==============================================================================\n",
            "Omnibus:                        1.104   Durbin-Watson:                   1.615\n",
            "Prob(Omnibus):                  0.576   Jarque-Bera (JB):                1.175\n",
            "Skew:                           0.235   Prob(JB):                        0.556\n",
            "Kurtosis:                       2.753   Cond. No.                         4.63\n",
            "==============================================================================\n",
            "\n",
            "Warnings:\n",
            "[1] Standard Errors assume that the covariance matrix of the errors is correctly specified.\n"
          ]
        }
      ]
    },
    {
      "cell_type": "markdown",
      "metadata": {
        "id": "5n6AnPra77R4"
      },
      "source": [
        "E) Now fit a least squares regression to predict y using only x2.\n",
        "Comment on your results. Can you reject the null hypothesis\n",
        "H0 : β1 = 0?\n",
        "\n",
        "**Answer:** As expected the result is now worse than before. This is due to the fact that x2 is less statistically significant than x1. "
      ]
    },
    {
      "cell_type": "code",
      "metadata": {
        "colab": {
          "base_uri": "https://localhost:8080/"
        },
        "id": "Z0xVaifo79Qo",
        "outputId": "e4f5acbe-32fd-486b-ec7e-48da3ba7e2a4"
      },
      "source": [
        "X=df[['x2']]\n",
        "X=sm.add_constant(X)\n",
        "model=sm.OLS(y,X).fit()\n",
        "\n",
        "print(model.summary())"
      ],
      "execution_count": null,
      "outputs": [
        {
          "output_type": "stream",
          "name": "stdout",
          "text": [
            "                            OLS Regression Results                            \n",
            "==============================================================================\n",
            "Dep. Variable:                      y   R-squared:                       0.254\n",
            "Model:                            OLS   Adj. R-squared:                  0.246\n",
            "Method:                 Least Squares   F-statistic:                     33.35\n",
            "Date:                Sun, 12 Sep 2021   Prob (F-statistic):           9.08e-08\n",
            "Time:                        16:56:02   Log-Likelihood:                -149.08\n",
            "No. Observations:                 100   AIC:                             302.2\n",
            "Df Residuals:                      98   BIC:                             307.4\n",
            "Df Model:                           1                                         \n",
            "Covariance Type:            nonrobust                                         \n",
            "==============================================================================\n",
            "                 coef    std err          t      P>|t|      [0.025      0.975]\n",
            "------------------------------------------------------------------------------\n",
            "const          2.1436      0.193     11.133      0.000       1.761       2.526\n",
            "x2             3.9385      0.682      5.775      0.000       2.585       5.292\n",
            "==============================================================================\n",
            "Omnibus:                        2.207   Durbin-Watson:                   1.680\n",
            "Prob(Omnibus):                  0.332   Jarque-Bera (JB):                1.663\n",
            "Skew:                           0.172   Prob(JB):                        0.435\n",
            "Kurtosis:                       3.529   Cond. No.                         6.63\n",
            "==============================================================================\n",
            "\n",
            "Warnings:\n",
            "[1] Standard Errors assume that the covariance matrix of the errors is correctly specified.\n"
          ]
        }
      ]
    },
    {
      "cell_type": "markdown",
      "metadata": {
        "id": "u84PzOMB8QcP"
      },
      "source": [
        "F) Do the results obtained in (c)-(e) contradict each other? Explain\n",
        "your answer.\n",
        "\n",
        "**Answer:** No they do contradict each other, but thats due to the fact that you can still get a result with **absence** of x1 which has a high statistical significans to y\n",
        "\n",
        "This means that there is colinearity between these two variables. They show their effect in absence of each other"
      ]
    }
  ]
}